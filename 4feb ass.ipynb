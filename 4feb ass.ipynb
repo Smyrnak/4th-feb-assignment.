{
 "cells": [
  {
   "cell_type": "code",
   "execution_count": 2,
   "id": "47d05e19-8155-428a-ac18-9d8981b8eaab",
   "metadata": {},
   "outputs": [],
   "source": [
    "#Q1. Create a python program to sort the given list of tuples based on integer value using a lambda function."
   ]
  },
  {
   "cell_type": "code",
   "execution_count": 3,
   "id": "946360ec-32bf-4391-b9e6-158397dec76c",
   "metadata": {},
   "outputs": [],
   "source": [
    "l = [('Sachin Tendulkar', 34357), ('Ricky Ponting', 27483), ('Jack Kallis', 25534), ('Virat Kohli', 24936)]"
   ]
  },
  {
   "cell_type": "code",
   "execution_count": 4,
   "id": "b5674f7d-2af0-4c16-89ab-ae3653bf8a31",
   "metadata": {},
   "outputs": [],
   "source": [
    "sort_list = lambda x , y : x if x > y else y"
   ]
  },
  {
   "cell_type": "code",
   "execution_count": 5,
   "id": "628295c2-4721-4e1d-abc1-b20adc989d24",
   "metadata": {},
   "outputs": [
    {
     "ename": "TypeError",
     "evalue": "<lambda>() missing 1 required positional argument: 'y'",
     "output_type": "error",
     "traceback": [
      "\u001b[0;31m---------------------------------------------------------------------------\u001b[0m",
      "\u001b[0;31mTypeError\u001b[0m                                 Traceback (most recent call last)",
      "Cell \u001b[0;32mIn[5], line 1\u001b[0m\n\u001b[0;32m----> 1\u001b[0m \u001b[43msort_list\u001b[49m\u001b[43m(\u001b[49m\u001b[43m[\u001b[49m\u001b[43m(\u001b[49m\u001b[38;5;124;43m'\u001b[39;49m\u001b[38;5;124;43mSachin Tendulkar\u001b[39;49m\u001b[38;5;124;43m'\u001b[39;49m\u001b[43m,\u001b[49m\u001b[43m \u001b[49m\u001b[38;5;241;43m34357\u001b[39;49m\u001b[43m)\u001b[49m\u001b[43m,\u001b[49m\u001b[43m \u001b[49m\u001b[43m(\u001b[49m\u001b[38;5;124;43m'\u001b[39;49m\u001b[38;5;124;43mRicky Ponting\u001b[39;49m\u001b[38;5;124;43m'\u001b[39;49m\u001b[43m,\u001b[49m\u001b[43m \u001b[49m\u001b[38;5;241;43m27483\u001b[39;49m\u001b[43m)\u001b[49m\u001b[43m,\u001b[49m\u001b[43m \u001b[49m\u001b[43m(\u001b[49m\u001b[38;5;124;43m'\u001b[39;49m\u001b[38;5;124;43mJack Kallis\u001b[39;49m\u001b[38;5;124;43m'\u001b[39;49m\u001b[43m,\u001b[49m\u001b[43m \u001b[49m\u001b[38;5;241;43m25534\u001b[39;49m\u001b[43m)\u001b[49m\u001b[43m,\u001b[49m\u001b[43m \u001b[49m\u001b[43m(\u001b[49m\u001b[38;5;124;43m'\u001b[39;49m\u001b[38;5;124;43mVirat Kohli\u001b[39;49m\u001b[38;5;124;43m'\u001b[39;49m\u001b[43m,\u001b[49m\u001b[43m \u001b[49m\u001b[38;5;241;43m24936\u001b[39;49m\u001b[43m)\u001b[49m\u001b[43m]\u001b[49m\u001b[43m)\u001b[49m\n",
      "\u001b[0;31mTypeError\u001b[0m: <lambda>() missing 1 required positional argument: 'y'"
     ]
    }
   ],
   "source": [
    "sort_list([('Sachin Tendulkar', 34357), ('Ricky Ponting', 27483), ('Jack Kallis', 25534), ('Virat Kohli', 24936)])"
   ]
  },
  {
   "cell_type": "code",
   "execution_count": 6,
   "id": "48f09d4b-29aa-4c40-ba83-fe3d04791a07",
   "metadata": {},
   "outputs": [],
   "source": [
    "###Q2. Write a Python Program to find the squares of all the numbers in the given list of integers usinglambda and map functions.###"
   ]
  },
  {
   "cell_type": "code",
   "execution_count": 7,
   "id": "b7af0551-d624-427c-a3bc-f67ef0f64880",
   "metadata": {},
   "outputs": [],
   "source": [
    "l1 = [1, 2, 3, 4, 5, 6, 7, 8, 9, 10]"
   ]
  },
  {
   "cell_type": "code",
   "execution_count": 8,
   "id": "1fcecf6f-0929-4986-984c-eb6109db9c26",
   "metadata": {},
   "outputs": [
    {
     "data": {
      "text/plain": [
       "[1, 2, 3, 4, 5, 6, 7, 8, 9, 10]"
      ]
     },
     "execution_count": 8,
     "metadata": {},
     "output_type": "execute_result"
    }
   ],
   "source": [
    "l1"
   ]
  },
  {
   "cell_type": "code",
   "execution_count": 9,
   "id": "822d32e9-4a70-448c-ad6d-f093c25a0eff",
   "metadata": {},
   "outputs": [
    {
     "data": {
      "text/plain": [
       "[1, 4, 9, 16, 25, 36, 49, 64, 81, 100]"
      ]
     },
     "execution_count": 9,
     "metadata": {},
     "output_type": "execute_result"
    }
   ],
   "source": [
    "list(map(lambda x : x**2, l1))"
   ]
  },
  {
   "cell_type": "code",
   "execution_count": 10,
   "id": "67eb363a-e4b0-4716-8c0a-7a375e76cd9d",
   "metadata": {},
   "outputs": [],
   "source": [
    "#Q3. Write a python program to convert the given list of integers into a tuple of strings. Use map andlambda functions"
   ]
  },
  {
   "cell_type": "code",
   "execution_count": 25,
   "id": "f8c7a0e5-f2c7-476d-b379-4cd89e43fc41",
   "metadata": {},
   "outputs": [],
   "source": [
    "l1 = [\"1, 2, 3, 4, 5, 6, 7, 8, 9, 10\"]\n"
   ]
  },
  {
   "cell_type": "code",
   "execution_count": 26,
   "id": "9f4b4e39-ae47-4d64-b921-33b6976d0f21",
   "metadata": {},
   "outputs": [
    {
     "data": {
      "text/plain": [
       "['1, 2, 3, 4, 5, 6, 7, 8, 9, 10']"
      ]
     },
     "execution_count": 26,
     "metadata": {},
     "output_type": "execute_result"
    }
   ],
   "source": [
    "l1"
   ]
  },
  {
   "cell_type": "code",
   "execution_count": 29,
   "id": "3057e1a2-938f-42db-ae95-47f5348f081e",
   "metadata": {},
   "outputs": [
    {
     "data": {
      "text/plain": [
       "('1, 2, 3, 4, 5, 6, 7, 8, 9, 10',)"
      ]
     },
     "execution_count": 29,
     "metadata": {},
     "output_type": "execute_result"
    }
   ],
   "source": [
    "tuple(map(lambda l1 : l1.upper() , l1))"
   ]
  },
  {
   "cell_type": "code",
   "execution_count": 30,
   "id": "9a47475b-93c8-4029-9b4a-cb9b3e8ffa17",
   "metadata": {},
   "outputs": [],
   "source": [
    "#Q4. Write a python program using reduce function to compute the product of a list containing numbersfrom 1 to 25."
   ]
  },
  {
   "cell_type": "code",
   "execution_count": 32,
   "id": "b37961d6-e66d-4c97-9df9-c00937401b9a",
   "metadata": {},
   "outputs": [],
   "source": [
    "from functools import reduce"
   ]
  },
  {
   "cell_type": "code",
   "execution_count": 36,
   "id": "5d21e2a6-8b0a-4aa7-9792-812e961268f2",
   "metadata": {},
   "outputs": [
    {
     "data": {
      "text/plain": [
       "15511210043330985984000000"
      ]
     },
     "execution_count": 36,
     "metadata": {},
     "output_type": "execute_result"
    }
   ],
   "source": [
    "l3 = list(range(1,26))\n",
    "reduce(lambda x , y : x*y , l3)"
   ]
  },
  {
   "cell_type": "code",
   "execution_count": 34,
   "id": "4908ff02-a7db-4381-b6af-94358735ee02",
   "metadata": {},
   "outputs": [
    {
     "data": {
      "text/plain": [
       "[1,\n",
       " 2,\n",
       " 3,\n",
       " 4,\n",
       " 5,\n",
       " 6,\n",
       " 7,\n",
       " 8,\n",
       " 9,\n",
       " 10,\n",
       " 11,\n",
       " 12,\n",
       " 13,\n",
       " 14,\n",
       " 15,\n",
       " 16,\n",
       " 17,\n",
       " 18,\n",
       " 19,\n",
       " 20,\n",
       " 21,\n",
       " 22,\n",
       " 23,\n",
       " 24,\n",
       " 25]"
      ]
     },
     "execution_count": 34,
     "metadata": {},
     "output_type": "execute_result"
    }
   ],
   "source": [
    "l3"
   ]
  },
  {
   "cell_type": "code",
   "execution_count": 35,
   "id": "f589acb9-568c-4f51-8ace-1d55fea43093",
   "metadata": {},
   "outputs": [
    {
     "data": {
      "text/plain": [
       "15511210043330985984000000"
      ]
     },
     "execution_count": 35,
     "metadata": {},
     "output_type": "execute_result"
    }
   ],
   "source": [
    "reduce(lambda x , y : x*y , l3)"
   ]
  },
  {
   "cell_type": "code",
   "execution_count": 37,
   "id": "29b563be-3fed-463a-8b51-fb05d82f4d58",
   "metadata": {},
   "outputs": [],
   "source": [
    "##Q5. Write a python program to filter the numbers in a given list that are divisible by 2 and 3 using thefilter function."
   ]
  },
  {
   "cell_type": "code",
   "execution_count": 38,
   "id": "15048742-4762-40af-a335-28e76d20c2e3",
   "metadata": {},
   "outputs": [],
   "source": [
    "l4 = [2, 3, 6, 9, 27, 60, 90, 120, 55, 46]"
   ]
  },
  {
   "cell_type": "code",
   "execution_count": 39,
   "id": "6aa70e49-2347-4c21-bdac-d6f8bef61293",
   "metadata": {},
   "outputs": [
    {
     "data": {
      "text/plain": [
       "[2, 3, 6, 9, 27, 60, 90, 120, 55, 46]"
      ]
     },
     "execution_count": 39,
     "metadata": {},
     "output_type": "execute_result"
    }
   ],
   "source": [
    "l4"
   ]
  },
  {
   "cell_type": "code",
   "execution_count": 44,
   "id": "f88231f9-a582-47a0-a712-754e0d7752a6",
   "metadata": {},
   "outputs": [
    {
     "data": {
      "text/plain": [
       "[3, 6, 9, 27, 60, 90, 120]"
      ]
     },
     "execution_count": 44,
     "metadata": {},
     "output_type": "execute_result"
    }
   ],
   "source": [
    "list(filter(lambda x  : x%2 == 0,l4 ))\n",
    "list(filter(lambda y  : y%3 == 0,l4 ))"
   ]
  },
  {
   "cell_type": "code",
   "execution_count": 45,
   "id": "aca38ffe-2267-4423-87df-2cc429e42bde",
   "metadata": {},
   "outputs": [],
   "source": [
    "l7 = ['python', 'php', 'aba', 'radar', 'level']"
   ]
  },
  {
   "cell_type": "code",
   "execution_count": 46,
   "id": "57639b16-b663-4e43-aaba-4159338b4141",
   "metadata": {},
   "outputs": [
    {
     "data": {
      "text/plain": [
       "['python', 'php', 'aba', 'radar', 'level']"
      ]
     },
     "execution_count": 46,
     "metadata": {},
     "output_type": "execute_result"
    }
   ],
   "source": [
    "l7"
   ]
  },
  {
   "cell_type": "code",
   "execution_count": 48,
   "id": "bea129e2-a8d0-4a74-bc22-7b603f9517d9",
   "metadata": {},
   "outputs": [
    {
     "data": {
      "text/plain": [
       "['php', 'aba', 'radar', 'level']"
      ]
     },
     "execution_count": 48,
     "metadata": {},
     "output_type": "execute_result"
    }
   ],
   "source": [
    "list(filter(lambda x  : x == \",  l7))"
   ]
  },
  {
   "cell_type": "code",
   "execution_count": null,
   "id": "086e6788-6f9c-4e01-90f0-c8bbe3fe5df4",
   "metadata": {},
   "outputs": [],
   "source": []
  }
 ],
 "metadata": {
  "kernelspec": {
   "display_name": "Python 3 (ipykernel)",
   "language": "python",
   "name": "python3"
  },
  "language_info": {
   "codemirror_mode": {
    "name": "ipython",
    "version": 3
   },
   "file_extension": ".py",
   "mimetype": "text/x-python",
   "name": "python",
   "nbconvert_exporter": "python",
   "pygments_lexer": "ipython3",
   "version": "3.10.8"
  }
 },
 "nbformat": 4,
 "nbformat_minor": 5
}
